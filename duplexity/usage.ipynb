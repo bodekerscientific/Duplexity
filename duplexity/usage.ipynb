{
 "cells": [
  {
   "cell_type": "code",
   "execution_count": 1,
   "metadata": {},
   "outputs": [],
   "source": [
    "import sys\n",
    "import os\n",
    "import pandas as pd\n",
    "import seaborn as sns\n",
    "\n",
    "# Add the path to the sys.path\n",
    "path = '/home/lexi/WeatherValidation/WeatherValidation/'\n",
    "if path not in sys.path:\n",
    "    sys.path.append(path)\n",
    "from duplexity.deterministic_score import DeterministicScore,CategoricalScore\n",
    "from duplexity.metric_map import grid_point_calculate,plot_metrics_map\n",
    "\n",
    "from datetime import datetime, timedelta\n",
    "import time\n",
    "import numpy as np\n",
    "import tqdm\n",
    "\n",
    "import matplotlib.pyplot as plt\n",
    "\n"
   ]
  },
  {
   "cell_type": "markdown",
   "metadata": {},
   "source": [
    "### Load raw data"
   ]
  },
  {
   "cell_type": "code",
   "execution_count": 2,
   "metadata": {},
   "outputs": [
    {
     "name": "stdout",
     "output_type": "stream",
     "text": [
      "Number of files found: 3600\n"
     ]
    }
   ],
   "source": [
    "# Define the directory containing the .npz files\n",
    "data_dir = \"/mnt/local/ERA5_example/\"\n",
    "# Get all .npz files in the directory\n",
    "file_list = [os.path.join(data_dir, f) for f in os.listdir(data_dir) if f.endswith('.npy')]\n",
    "m = len(file_list)\n",
    "print(f\"Number of files found: {m}\")\n"
   ]
  },
  {
   "cell_type": "code",
   "execution_count": 3,
   "metadata": {},
   "outputs": [
    {
     "name": "stdout",
     "output_type": "stream",
     "text": [
      "Loaded observed data shape: (3600, 192, 144)\n",
      "Loaded output data shape: (3600, 192, 144)\n"
     ]
    }
   ],
   "source": [
    "# Initialize lists to store observed and output data\n",
    "observed_list = []\n",
    "output_list = []\n",
    "\n",
    "# Load data from each file\n",
    "for file in file_list:\n",
    "    observed = np.load(file)\n",
    "    output = observed + np.random.normal(0, 0.1, observed.shape)\n",
    "    observed_list.append(observed)\n",
    "    output_list.append(output)\n",
    "\n",
    "# Convert lists to numpy arrays\n",
    "observed_data = np.array(observed_list)\n",
    "output_data = np.array(output_list)\n",
    "\n",
    "print(f\"Loaded observed data shape: {observed_data.shape}\")\n",
    "print(f\"Loaded output data shape: {output_data.shape}\")\n"
   ]
  },
  {
   "cell_type": "code",
   "execution_count": 4,
   "metadata": {},
   "outputs": [],
   "source": [
    "# Set a threshold for binary classification\n",
    "threshold = 0.5\n",
    "\n",
    "# Initialize the DeterministicScore class for continuous data\n",
    "det_score = DeterministicScore(observed=observed_data, output=output_data)\n",
    "cat_score = CategoricalScore(observed=observed_data, output=output_data, threshold=threshold)\n"
   ]
  },
  {
   "cell_type": "code",
   "execution_count": 5,
   "metadata": {},
   "outputs": [
    {
     "name": "stdout",
     "output_type": "stream",
     "text": [
      "Continuous Metrics:\n",
      "MSE: 0.00999814198170731\n",
      "RMSE: 0.09999070947696746\n",
      "MAE: 0.07978075964320808\n",
      "Bias: -1.2706922263116837e-05\n",
      "Correlation: 0.9040225044740102\n",
      "\n",
      "Categorical Metrics:\n",
      "Accuracy: 0.9982894181616513\n",
      "CSI: 0.8855780138602896\n",
      "ETS: 0.8840372480110107\n",
      "FAR: 0.07017507959446338\n",
      "POD: 0.9490054668893464\n",
      "GSS: 0.8840372480110107\n",
      "HSS: 0.938449862330796\n",
      "PSS: 0.9479921523968502\n",
      "SEDI: 0.9892472837877483\n"
     ]
    }
   ],
   "source": [
    "\n",
    "# Calculate and print all continuous metrics\n",
    "det_metrics = det_score.calculate_metrics()\n",
    "print(\"Continuous Metrics:\")\n",
    "for metric, value in det_metrics.items():\n",
    "    print(f\"{metric}: {value}\")\n",
    "\n",
    "# Calculate and print all categorical metrics\n",
    "cat_metrics = cat_score.calculate_metrics()\n",
    "print(\"\\nCategorical Metrics:\")\n",
    "for metric, value in cat_metrics.items():\n",
    "    print(f\"{metric}: {value}\")\n"
   ]
  },
  {
   "cell_type": "markdown",
   "metadata": {},
   "source": [
    "### Metric map"
   ]
  },
  {
   "cell_type": "code",
   "execution_count": 5,
   "metadata": {},
   "outputs": [
    {
     "ename": "TypeError",
     "evalue": "DeterministicScore.mae() takes 1 positional argument but 3 were given",
     "output_type": "error",
     "traceback": [
      "\u001b[0;31m---------------------------------------------------------------------------\u001b[0m",
      "\u001b[0;31mTypeError\u001b[0m                                 Traceback (most recent call last)",
      "Cell \u001b[0;32mIn[5], line 1\u001b[0m\n\u001b[0;32m----> 1\u001b[0m metrics \u001b[38;5;241m=\u001b[39m grid_point_calculate(observed_list, output_list)\n",
      "File \u001b[0;32m~/WeatherValidation/WeatherValidation/duplexity/metric_map.py:123\u001b[0m, in \u001b[0;36mgrid_point_calculate\u001b[0;34m(observed, output)\u001b[0m\n\u001b[1;32m    120\u001b[0m metrics_result[\u001b[38;5;124m\"\u001b[39m\u001b[38;5;124mBias\u001b[39m\u001b[38;5;124m\"\u001b[39m] \u001b[38;5;241m=\u001b[39m initialize_metrics(shape)\n\u001b[1;32m    122\u001b[0m \u001b[38;5;66;03m# Update metrics for each grid point\u001b[39;00m\n\u001b[0;32m--> 123\u001b[0m metrics_result[\u001b[38;5;124m\"\u001b[39m\u001b[38;5;124mMAE\u001b[39m\u001b[38;5;124m\"\u001b[39m] \u001b[38;5;241m=\u001b[39m update_metrics(metrics_result[\u001b[38;5;124m\"\u001b[39m\u001b[38;5;124mMAE\u001b[39m\u001b[38;5;124m\"\u001b[39m], observed, output, det_score\u001b[38;5;241m.\u001b[39mmae)\n\u001b[1;32m    124\u001b[0m metrics_result[\u001b[38;5;124m\"\u001b[39m\u001b[38;5;124mMSE\u001b[39m\u001b[38;5;124m\"\u001b[39m] \u001b[38;5;241m=\u001b[39m update_metrics(metrics_result[\u001b[38;5;124m\"\u001b[39m\u001b[38;5;124mMSE\u001b[39m\u001b[38;5;124m\"\u001b[39m], observed, output, det_score\u001b[38;5;241m.\u001b[39mmse)\n\u001b[1;32m    125\u001b[0m metrics_result[\u001b[38;5;124m\"\u001b[39m\u001b[38;5;124mRMSE\u001b[39m\u001b[38;5;124m\"\u001b[39m] \u001b[38;5;241m=\u001b[39m update_metrics(metrics_result[\u001b[38;5;124m\"\u001b[39m\u001b[38;5;124mRMSE\u001b[39m\u001b[38;5;124m\"\u001b[39m], observed, output, det_score\u001b[38;5;241m.\u001b[39mrmse)\n",
      "File \u001b[0;32m~/WeatherValidation/WeatherValidation/duplexity/metric_map.py:44\u001b[0m, in \u001b[0;36mupdate_metrics\u001b[0;34m(metric_array, observed, output, metric_function)\u001b[0m\n\u001b[1;32m     42\u001b[0m     \u001b[38;5;28;01mfor\u001b[39;00m j \u001b[38;5;129;01min\u001b[39;00m \u001b[38;5;28mrange\u001b[39m(output\u001b[38;5;241m.\u001b[39mshape[\u001b[38;5;241m1\u001b[39m]):\n\u001b[1;32m     43\u001b[0m         \u001b[38;5;28;01mfor\u001b[39;00m k \u001b[38;5;129;01min\u001b[39;00m \u001b[38;5;28mrange\u001b[39m(output\u001b[38;5;241m.\u001b[39mshape[\u001b[38;5;241m2\u001b[39m]):\n\u001b[0;32m---> 44\u001b[0m             result \u001b[38;5;241m=\u001b[39m metric_function(observed[i, j, k], output[i, j, k])\n\u001b[1;32m     45\u001b[0m             metric_array[i, j, k] \u001b[38;5;241m+\u001b[39m\u001b[38;5;241m=\u001b[39m result \u001b[38;5;28;01mif\u001b[39;00m \u001b[38;5;129;01mnot\u001b[39;00m np\u001b[38;5;241m.\u001b[39misnan(result) \u001b[38;5;28;01melse\u001b[39;00m \u001b[38;5;241m0\u001b[39m\n\u001b[1;32m     46\u001b[0m \u001b[38;5;28;01mreturn\u001b[39;00m np\u001b[38;5;241m.\u001b[39mmean(metric_array, axis\u001b[38;5;241m=\u001b[39m\u001b[38;5;241m0\u001b[39m)\n",
      "\u001b[0;31mTypeError\u001b[0m: DeterministicScore.mae() takes 1 positional argument but 3 were given"
     ]
    }
   ],
   "source": [
    "metrics = grid_point_calculate(observed_list, output_list)\n"
   ]
  },
  {
   "cell_type": "code",
   "execution_count": null,
   "metadata": {},
   "outputs": [],
   "source": [
    "plot_metrics_map(metrics, metric_name: str, title: str, save_path: str = None, vminvmax: tuple = None, camp: str = 'viridis', land_mask: np.array = None)\n"
   ]
  }
 ],
 "metadata": {
  "kernelspec": {
   "display_name": "python",
   "language": "python",
   "name": "python3"
  },
  "language_info": {
   "codemirror_mode": {
    "name": "ipython",
    "version": 3
   },
   "file_extension": ".py",
   "mimetype": "text/x-python",
   "name": "python",
   "nbconvert_exporter": "python",
   "pygments_lexer": "ipython3",
   "version": "3.11.8"
  }
 },
 "nbformat": 4,
 "nbformat_minor": 2
}
