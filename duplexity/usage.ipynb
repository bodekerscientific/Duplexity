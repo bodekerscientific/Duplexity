{
 "cells": [
  {
   "cell_type": "code",
   "execution_count": 1,
   "metadata": {},
   "outputs": [],
   "source": [
    "import sys\n",
    "import os\n",
    "import pandas as pd\n",
    "import seaborn as sns\n",
    "\n",
    "# Add the path to the sys.path\n",
    "path = '/home/lexi/WeatherValidation/WeatherValidation/'\n",
    "if path not in sys.path:\n",
    "    sys.path.append(path)\n",
    "# from duplexity.deterministic_score import *\n",
    "from duplexity.metric_map import grid_point_calculate,plot_metrics_map\n",
    "\n",
    "from datetime import datetime, timedelta\n",
    "import time\n",
    "import numpy as np\n",
    "import tqdm\n",
    "\n",
    "import matplotlib.pyplot as plt\n",
    "\n"
   ]
  },
  {
   "cell_type": "markdown",
   "metadata": {},
   "source": [
    "### Load raw data"
   ]
  },
  {
   "cell_type": "code",
   "execution_count": 2,
   "metadata": {},
   "outputs": [
    {
     "name": "stdout",
     "output_type": "stream",
     "text": [
      "Number of files found: 3600\n"
     ]
    }
   ],
   "source": [
    "# Define the directory containing the .npz files\n",
    "data_dir = \"/mnt/local/ERA5_example/\"\n",
    "# Get all .npz files in the directory\n",
    "file_list = [os.path.join(data_dir, f) for f in os.listdir(data_dir) if f.endswith('.npy')]\n",
    "m = len(file_list)\n",
    "print(f\"Number of files found: {m}\")\n"
   ]
  },
  {
   "cell_type": "code",
   "execution_count": 3,
   "metadata": {},
   "outputs": [
    {
     "name": "stdout",
     "output_type": "stream",
     "text": [
      "Loaded observed data shape: (3600, 192, 144)\n",
      "Loaded output data shape: (3600, 192, 144)\n"
     ]
    }
   ],
   "source": [
    "# Initialize lists to store observed and output data\n",
    "observed_list = []\n",
    "output_list = []\n",
    "\n",
    "# Load data from each file\n",
    "for file in file_list:\n",
    "    observed = np.load(file)\n",
    "    output = observed + np.random.normal(0, 0.1, observed.shape)\n",
    "    observed_list.append(observed)\n",
    "    output_list.append(output)\n",
    "\n",
    "# Convert lists to numpy arrays\n",
    "observed_data = np.array(observed_list)\n",
    "output_data = np.array(output_list)\n",
    "\n",
    "print(f\"Loaded observed data shape: {observed_data.shape}\")\n",
    "print(f\"Loaded output data shape: {output_data.shape}\")\n"
   ]
  },
  {
   "cell_type": "code",
   "execution_count": 4,
   "metadata": {},
   "outputs": [
    {
     "name": "stdout",
     "output_type": "stream",
     "text": [
      "MAE: 0.07978983930158182\n",
      "MSE: 0.00999984694680979\n",
      "RMSE: 0.09999923473112077\n",
      "Bias: -2.449929473868131e-05\n",
      "DRMSE: 0.09999923173002066\n",
      "Pearson Correlation: 0.9040008513378118\n"
     ]
    }
   ],
   "source": [
    "# Continuous Metrics\n",
    "continuous_metrics = calculate_continuous_metrics(observed_data, output_data)\n",
    "\n",
    "for metric, value in continuous_metrics.items():\n",
    "    print(f\"{metric}: {value}\")\n"
   ]
  },
  {
   "cell_type": "code",
   "execution_count": 5,
   "metadata": {},
   "outputs": [
    {
     "name": "stdout",
     "output_type": "stream",
     "text": [
      "Confusion Matrix: \n",
      "[[    2     1]\n",
      " [    2 27643]]\n",
      "Precision: 0.5000\n",
      "Recall: 0.6667\n",
      "F1 Score: 0.5714\n",
      "Accuracy: 0.9999\n",
      "CSI: 0.4000\n",
      "ETS: 0.3999\n",
      "FAR: 0.5000\n",
      "POD: 0.6667\n",
      "GSS: 0.3999\n",
      "HSS: 0.5714\n",
      "PSS: 0.6666\n",
      "SEDI: 0.9265\n"
     ]
    }
   ],
   "source": [
    "# Set a threshold for binary classification\n",
    "threshold = 0.5\n",
    "\n",
    "# Generate binary example data for categorical metrics\n",
    "observed_binary = (observed > threshold).astype(int)\n",
    "output_binary = (output > threshold).astype(int)\n",
    "\n",
    "# Categorical Metrics\n",
    "categorical_metrics = calculate_categorical_metrics(observed_binary, output_binary, threshold)\n",
    "\n",
    "for metric, value in categorical_metrics.items():\n",
    "    if isinstance(value, np.ndarray):\n",
    "        print(f\"{metric}: \\n{value}\")\n",
    "    else:\n",
    "        print(f\"{metric}: {value:.4f}\")\n"
   ]
  },
  {
   "cell_type": "code",
   "execution_count": 10,
   "metadata": {},
   "outputs": [
    {
     "name": "stdout",
     "output_type": "stream",
     "text": [
      "\n",
      "Confusion Matrix:\n",
      "[[    2     1]\n",
      " [    2 27643]]\n"
     ]
    },
    {
     "data": {
      "image/png": "[encoded data removed]",
      "text/plain": [
       "<Figure size 600x600 with 2 Axes>"
      ]
     },
     "metadata": {},
     "output_type": "display_data"
    }
   ],
   "source": [
    "# Calculate and display confusion matrix\n",
    "cm = confusion_matrix(observed_binary, output_binary, threshold)\n",
    "print(\"\\nConfusion Matrix:\")\n",
    "print(cm)\n",
    "# Plot Confusion Matrix\n",
    "plt.figure(figsize=(6, 6))\n",
    "plt.matshow(cm, cmap=plt.cm.Blues, fignum=1)\n",
    "plt.title('Confusion Matrix')\n",
    "plt.colorbar()\n",
    "plt.ylabel('True label')\n",
    "plt.xlabel('Predicted label')\n",
    "plt.xticks([0, 1], ['False', 'True'])\n",
    "plt.yticks([0, 1], ['False', 'True'])\n",
    "plt.show()\n"
   ]
  },
  {
   "cell_type": "markdown",
   "metadata": {},
   "source": [
    "### Metric map"
   ]
  },
  {
   "cell_type": "code",
   "execution_count": 11,
   "metadata": {},
   "outputs": [],
   "source": [
    "metrics = grid_point_calculate(observed_list, output_list)\n"
   ]
  },
  {
   "cell_type": "code",
   "execution_count": null,
   "metadata": {},
   "outputs": [
    {
     "ename": "SyntaxError",
     "evalue": "invalid syntax (3266633815.py, line 1)",
     "output_type": "error",
     "traceback": [
      "\u001b[0;36m  Cell \u001b[0;32mIn[5], line 1\u001b[0;36m\u001b[0m\n\u001b[0;31m    plot_metrics_map(metrics, metric_name: str, title: str, save_path: str = None, vminvmax: tuple = None, camp: str = 'viridis', land_mask: np.array = None)\u001b[0m\n\u001b[0m                                         ^\u001b[0m\n\u001b[0;31mSyntaxError\u001b[0m\u001b[0;31m:\u001b[0m invalid syntax\n"
     ]
    }
   ],
   "source": [
    "plot_metrics_map(metrics, metric_name: str, title: str, save_path: str = None, vminvmax: tuple = None, camp: str = 'viridis', land_mask: np.array = None)\n"
   ]
  },
  {
   "cell_type": "markdown",
   "metadata": {},
   "source": [
    "## FSS"
   ]
  },
  {
   "cell_type": "code",
   "execution_count": 16,
   "metadata": {},
   "outputs": [],
   "source": [
    "for output, observed in zip(output_list,observed_list):\n",
    "    fss_05 = [calculate_fss_score(output, observed, threshold = 0.5, scale=[i]) for i in range(1, 11)]\n",
    "    fss_01 = [calculate_fss_score(output, observed, threshold = 0.1, scale=[i]) for i in range(1, 11)]\n",
    "    fss_02 = [calculate_fss_score(output, observed, threshold = 0.2, scale=[i]) for i in range(1, 11)]\n",
    "    fss_01 = [calculate_fss_score(output, observed, threshold = 0.01, scale=[i]) for i in range(1, 11)]\n"
   ]
  },
  {
   "cell_type": "code",
   "execution_count": 19,
   "metadata": {},
   "outputs": [],
   "source": [
    "for output, observed in zip(output_list,observed_list):\n",
    "    fss_001 = [calculate_fss_score(output, observed, threshold = 0.01, scale=[i]) for i in range(1, 11)]\n",
    "\n"
   ]
  },
  {
   "cell_type": "code",
   "execution_count": 18,
   "metadata": {},
   "outputs": [
    {
     "data": {
      "text/plain": [
       "[[0.0793854033290653],\n",
       " [0.203125],\n",
       " [0.2914405741291791],\n",
       " [0.3416666666666667],\n",
       " [0.3658516161446993],\n",
       " [0.3752330030413028],\n",
       " [0.37444063821251117],\n",
       " [0.3680238851297626],\n",
       " [0.35785185079848125],\n",
       " [0.3463288529116786]]"
      ]
     },
     "execution_count": 18,
     "metadata": {},
     "output_type": "execute_result"
    }
   ],
   "source": [
    "fss_02"
   ]
  },
  {
   "cell_type": "code",
   "execution_count": 24,
   "metadata": {},
   "outputs": [
    {
     "data": {
      "text/plain": [
       "[[0.040293809024134264],\n",
       " [0.09251655629139077],\n",
       " [0.11928142382481688],\n",
       " [0.1288947790604401],\n",
       " [0.12971950576429392],\n",
       " [0.1270357882129327],\n",
       " [0.12281540411863723],\n",
       " [0.11832737010189542],\n",
       " [0.11357625511386094],\n",
       " [0.10914955796901726]]"
      ]
     },
     "execution_count": 24,
     "metadata": {},
     "output_type": "execute_result"
    }
   ],
   "source": [
    "fss_01"
   ]
  },
  {
   "cell_type": "code",
   "execution_count": 23,
   "metadata": {},
   "outputs": [
    {
     "data": {
      "image/png": "[encoded data removed]",
      "text/plain": [
       "<Figure size 640x480 with 1 Axes>"
      ]
     },
     "metadata": {},
     "output_type": "display_data"
    }
   ],
   "source": [
    "fig, ax = plt.subplots(1, 1)\n",
    "\n",
    "ax.plot(range(1, 11), fss_05, label='0.5mm')\n",
    "ax.plot(range(1, 11), fss_01, label='0.1mm')\n",
    "ax.plot(range(1, 11), fss_02, label='0.2mm')\n",
    "ax.plot(range(1, 11), fss_001, label='0mm')\n",
    "\n",
    "\n",
    "ax.set_xlabel('Scale')\n",
    "ax.set_ylabel('FSS')\n",
    "ax.set_title('FSS score for different thresholds')\n",
    "ax.legend()\n",
    "plt.show()"
   ]
  },
  {
   "cell_type": "code",
   "execution_count": 19,
   "metadata": {},
   "outputs": [
    {
     "data": {
      "text/plain": [
       "[0.9090909090909091,\n",
       " 0.9333333333333333,\n",
       " 0.9411764705882353,\n",
       " 0.9444444444444444,\n",
       " 0.9459459459459459,\n",
       " 0.9587003533941664]"
      ]
     },
     "execution_count": 19,
     "metadata": {},
     "output_type": "execute_result"
    }
   ],
   "source": [
    "fss_scores"
   ]
  },
  {
   "cell_type": "code",
   "execution_count": 25,
   "metadata": {},
   "outputs": [
    {
     "ename": "ZeroDivisionError",
     "evalue": "division by zero",
     "output_type": "error",
     "traceback": [
      "\u001b[0;31m---------------------------------------------------------------------------\u001b[0m",
      "\u001b[0;31mZeroDivisionError\u001b[0m                         Traceback (most recent call last)",
      "Cell \u001b[0;32mIn[25], line 1\u001b[0m\n\u001b[0;32m----> 1\u001b[0m \u001b[38;5;241m1\u001b[39m\u001b[38;5;241m/\u001b[39m\u001b[38;5;241m0\u001b[39m\n",
      "\u001b[0;31mZeroDivisionError\u001b[0m: division by zero"
     ]
    }
   ],
   "source": [
    "1/0"
   ]
  },
  {
   "cell_type": "code",
   "execution_count": null,
   "metadata": {},
   "outputs": [],
   "source": []
  }
 ],
 "metadata": {
  "kernelspec": {
   "display_name": "python",
   "language": "python",
   "name": "python3"
  },
  "language_info": {
   "codemirror_mode": {
    "name": "ipython",
    "version": 3
   },
   "file_extension": ".py",
   "mimetype": "text/x-python",
   "name": "python",
   "nbconvert_exporter": "python",
   "pygments_lexer": "ipython3",
   "version": "3.11.8"
  }
 },
 "nbformat": 4,
 "nbformat_minor": 2
}
